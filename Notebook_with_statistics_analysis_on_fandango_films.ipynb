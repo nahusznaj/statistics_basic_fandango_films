{
 "cells": [
  {
   "cell_type": "markdown",
   "metadata": {},
   "source": [
    "# Statistical analysis on Fandango ratings\n",
    "\n",
    "In this project I will put in practise some basic statistical analysis using two datasets on Fandango film ratings. The data comes from the [article](https://fivethirtyeight.com/features/fandango-movies-ratings/) that journalist Walt Hickey published in 2015 published, evidencing biases in the way Fandango calculated the films ratings.\n",
    "\n",
    "Hickey published a GitHub [repo](https://github.com/fivethirtyeight/data/tree/master/fandango) with his data, and more recently [dataquest.io]() team collected data based on 2016 and 2017 films in this [repo](https://github.com/mircealex/Movie_ratings_2016_17).\n",
    "\n",
    "I will discuss the analysis tools that I am using.\n",
    "By the way, the csv files that I used here are: 'fandango_score_comparison.csv' available at [Hickey's repo](https://github.com/fivethirtyeight/data/tree/master/fandango) and 'movie_ratings_16_17.csv' available from [dataquest staff repo](https://github.com/mircealex/Movie_ratings_2016_17)."
   ]
  },
  {
   "cell_type": "code",
   "execution_count": 2,
   "metadata": {
    "collapsed": true
   },
   "outputs": [],
   "source": [
    "import pandas as pd"
   ]
  },
  {
   "cell_type": "code",
   "execution_count": 171,
   "metadata": {
    "collapsed": true
   },
   "outputs": [],
   "source": [
    "score_comparison = pd.read_csv('fandango_score_comparison.csv')"
   ]
  },
  {
   "cell_type": "code",
   "execution_count": 172,
   "metadata": {},
   "outputs": [
    {
     "data": {
      "text/html": [
       "<div>\n",
       "<style scoped>\n",
       "    .dataframe tbody tr th:only-of-type {\n",
       "        vertical-align: middle;\n",
       "    }\n",
       "\n",
       "    .dataframe tbody tr th {\n",
       "        vertical-align: top;\n",
       "    }\n",
       "\n",
       "    .dataframe thead th {\n",
       "        text-align: right;\n",
       "    }\n",
       "</style>\n",
       "<table border=\"1\" class=\"dataframe\">\n",
       "  <thead>\n",
       "    <tr style=\"text-align: right;\">\n",
       "      <th></th>\n",
       "      <th>FILM</th>\n",
       "      <th>RottenTomatoes</th>\n",
       "      <th>RottenTomatoes_User</th>\n",
       "      <th>Metacritic</th>\n",
       "      <th>Metacritic_User</th>\n",
       "      <th>IMDB</th>\n",
       "      <th>Fandango_Stars</th>\n",
       "      <th>Fandango_Ratingvalue</th>\n",
       "      <th>RT_norm</th>\n",
       "      <th>RT_user_norm</th>\n",
       "      <th>...</th>\n",
       "      <th>IMDB_norm</th>\n",
       "      <th>RT_norm_round</th>\n",
       "      <th>RT_user_norm_round</th>\n",
       "      <th>Metacritic_norm_round</th>\n",
       "      <th>Metacritic_user_norm_round</th>\n",
       "      <th>IMDB_norm_round</th>\n",
       "      <th>Metacritic_user_vote_count</th>\n",
       "      <th>IMDB_user_vote_count</th>\n",
       "      <th>Fandango_votes</th>\n",
       "      <th>Fandango_Difference</th>\n",
       "    </tr>\n",
       "  </thead>\n",
       "  <tbody>\n",
       "    <tr>\n",
       "      <th>0</th>\n",
       "      <td>Avengers: Age of Ultron (2015)</td>\n",
       "      <td>74</td>\n",
       "      <td>86</td>\n",
       "      <td>66</td>\n",
       "      <td>7.1</td>\n",
       "      <td>7.8</td>\n",
       "      <td>5.0</td>\n",
       "      <td>4.5</td>\n",
       "      <td>3.70</td>\n",
       "      <td>4.3</td>\n",
       "      <td>...</td>\n",
       "      <td>3.90</td>\n",
       "      <td>3.5</td>\n",
       "      <td>4.5</td>\n",
       "      <td>3.5</td>\n",
       "      <td>3.5</td>\n",
       "      <td>4.0</td>\n",
       "      <td>1330</td>\n",
       "      <td>271107</td>\n",
       "      <td>14846</td>\n",
       "      <td>0.5</td>\n",
       "    </tr>\n",
       "    <tr>\n",
       "      <th>1</th>\n",
       "      <td>Cinderella (2015)</td>\n",
       "      <td>85</td>\n",
       "      <td>80</td>\n",
       "      <td>67</td>\n",
       "      <td>7.5</td>\n",
       "      <td>7.1</td>\n",
       "      <td>5.0</td>\n",
       "      <td>4.5</td>\n",
       "      <td>4.25</td>\n",
       "      <td>4.0</td>\n",
       "      <td>...</td>\n",
       "      <td>3.55</td>\n",
       "      <td>4.5</td>\n",
       "      <td>4.0</td>\n",
       "      <td>3.5</td>\n",
       "      <td>4.0</td>\n",
       "      <td>3.5</td>\n",
       "      <td>249</td>\n",
       "      <td>65709</td>\n",
       "      <td>12640</td>\n",
       "      <td>0.5</td>\n",
       "    </tr>\n",
       "    <tr>\n",
       "      <th>2</th>\n",
       "      <td>Ant-Man (2015)</td>\n",
       "      <td>80</td>\n",
       "      <td>90</td>\n",
       "      <td>64</td>\n",
       "      <td>8.1</td>\n",
       "      <td>7.8</td>\n",
       "      <td>5.0</td>\n",
       "      <td>4.5</td>\n",
       "      <td>4.00</td>\n",
       "      <td>4.5</td>\n",
       "      <td>...</td>\n",
       "      <td>3.90</td>\n",
       "      <td>4.0</td>\n",
       "      <td>4.5</td>\n",
       "      <td>3.0</td>\n",
       "      <td>4.0</td>\n",
       "      <td>4.0</td>\n",
       "      <td>627</td>\n",
       "      <td>103660</td>\n",
       "      <td>12055</td>\n",
       "      <td>0.5</td>\n",
       "    </tr>\n",
       "    <tr>\n",
       "      <th>3</th>\n",
       "      <td>Do You Believe? (2015)</td>\n",
       "      <td>18</td>\n",
       "      <td>84</td>\n",
       "      <td>22</td>\n",
       "      <td>4.7</td>\n",
       "      <td>5.4</td>\n",
       "      <td>5.0</td>\n",
       "      <td>4.5</td>\n",
       "      <td>0.90</td>\n",
       "      <td>4.2</td>\n",
       "      <td>...</td>\n",
       "      <td>2.70</td>\n",
       "      <td>1.0</td>\n",
       "      <td>4.0</td>\n",
       "      <td>1.0</td>\n",
       "      <td>2.5</td>\n",
       "      <td>2.5</td>\n",
       "      <td>31</td>\n",
       "      <td>3136</td>\n",
       "      <td>1793</td>\n",
       "      <td>0.5</td>\n",
       "    </tr>\n",
       "    <tr>\n",
       "      <th>4</th>\n",
       "      <td>Hot Tub Time Machine 2 (2015)</td>\n",
       "      <td>14</td>\n",
       "      <td>28</td>\n",
       "      <td>29</td>\n",
       "      <td>3.4</td>\n",
       "      <td>5.1</td>\n",
       "      <td>3.5</td>\n",
       "      <td>3.0</td>\n",
       "      <td>0.70</td>\n",
       "      <td>1.4</td>\n",
       "      <td>...</td>\n",
       "      <td>2.55</td>\n",
       "      <td>0.5</td>\n",
       "      <td>1.5</td>\n",
       "      <td>1.5</td>\n",
       "      <td>1.5</td>\n",
       "      <td>2.5</td>\n",
       "      <td>88</td>\n",
       "      <td>19560</td>\n",
       "      <td>1021</td>\n",
       "      <td>0.5</td>\n",
       "    </tr>\n",
       "  </tbody>\n",
       "</table>\n",
       "<p>5 rows × 22 columns</p>\n",
       "</div>"
      ],
      "text/plain": [
       "                             FILM  RottenTomatoes  RottenTomatoes_User  \\\n",
       "0  Avengers: Age of Ultron (2015)              74                   86   \n",
       "1               Cinderella (2015)              85                   80   \n",
       "2                  Ant-Man (2015)              80                   90   \n",
       "3          Do You Believe? (2015)              18                   84   \n",
       "4   Hot Tub Time Machine 2 (2015)              14                   28   \n",
       "\n",
       "   Metacritic  Metacritic_User  IMDB  Fandango_Stars  Fandango_Ratingvalue  \\\n",
       "0          66              7.1   7.8             5.0                   4.5   \n",
       "1          67              7.5   7.1             5.0                   4.5   \n",
       "2          64              8.1   7.8             5.0                   4.5   \n",
       "3          22              4.7   5.4             5.0                   4.5   \n",
       "4          29              3.4   5.1             3.5                   3.0   \n",
       "\n",
       "   RT_norm  RT_user_norm         ...           IMDB_norm  RT_norm_round  \\\n",
       "0     3.70           4.3         ...                3.90            3.5   \n",
       "1     4.25           4.0         ...                3.55            4.5   \n",
       "2     4.00           4.5         ...                3.90            4.0   \n",
       "3     0.90           4.2         ...                2.70            1.0   \n",
       "4     0.70           1.4         ...                2.55            0.5   \n",
       "\n",
       "   RT_user_norm_round  Metacritic_norm_round  Metacritic_user_norm_round  \\\n",
       "0                 4.5                    3.5                         3.5   \n",
       "1                 4.0                    3.5                         4.0   \n",
       "2                 4.5                    3.0                         4.0   \n",
       "3                 4.0                    1.0                         2.5   \n",
       "4                 1.5                    1.5                         1.5   \n",
       "\n",
       "   IMDB_norm_round  Metacritic_user_vote_count  IMDB_user_vote_count  \\\n",
       "0              4.0                        1330                271107   \n",
       "1              3.5                         249                 65709   \n",
       "2              4.0                         627                103660   \n",
       "3              2.5                          31                  3136   \n",
       "4              2.5                          88                 19560   \n",
       "\n",
       "   Fandango_votes  Fandango_Difference  \n",
       "0           14846                  0.5  \n",
       "1           12640                  0.5  \n",
       "2           12055                  0.5  \n",
       "3            1793                  0.5  \n",
       "4            1021                  0.5  \n",
       "\n",
       "[5 rows x 22 columns]"
      ]
     },
     "execution_count": 172,
     "metadata": {},
     "output_type": "execute_result"
    }
   ],
   "source": [
    "score_comparison.head()"
   ]
  },
  {
   "cell_type": "code",
   "execution_count": 173,
   "metadata": {},
   "outputs": [
    {
     "name": "stdout",
     "output_type": "stream",
     "text": [
      "<class 'pandas.core.frame.DataFrame'>\n",
      "RangeIndex: 146 entries, 0 to 145\n",
      "Data columns (total 22 columns):\n",
      "FILM                          146 non-null object\n",
      "RottenTomatoes                146 non-null int64\n",
      "RottenTomatoes_User           146 non-null int64\n",
      "Metacritic                    146 non-null int64\n",
      "Metacritic_User               146 non-null float64\n",
      "IMDB                          146 non-null float64\n",
      "Fandango_Stars                146 non-null float64\n",
      "Fandango_Ratingvalue          146 non-null float64\n",
      "RT_norm                       146 non-null float64\n",
      "RT_user_norm                  146 non-null float64\n",
      "Metacritic_norm               146 non-null float64\n",
      "Metacritic_user_nom           146 non-null float64\n",
      "IMDB_norm                     146 non-null float64\n",
      "RT_norm_round                 146 non-null float64\n",
      "RT_user_norm_round            146 non-null float64\n",
      "Metacritic_norm_round         146 non-null float64\n",
      "Metacritic_user_norm_round    146 non-null float64\n",
      "IMDB_norm_round               146 non-null float64\n",
      "Metacritic_user_vote_count    146 non-null int64\n",
      "IMDB_user_vote_count          146 non-null int64\n",
      "Fandango_votes                146 non-null int64\n",
      "Fandango_Difference           146 non-null float64\n",
      "dtypes: float64(15), int64(6), object(1)\n",
      "memory usage: 25.2+ KB\n"
     ]
    }
   ],
   "source": [
    "score_comparison.info()"
   ]
  },
  {
   "cell_type": "code",
   "execution_count": 174,
   "metadata": {
    "collapsed": true
   },
   "outputs": [],
   "source": [
    "movie_ratings_16_17 = pd.read_csv('movie_ratings_16_17.csv')"
   ]
  },
  {
   "cell_type": "code",
   "execution_count": 175,
   "metadata": {},
   "outputs": [
    {
     "data": {
      "text/html": [
       "<div>\n",
       "<style scoped>\n",
       "    .dataframe tbody tr th:only-of-type {\n",
       "        vertical-align: middle;\n",
       "    }\n",
       "\n",
       "    .dataframe tbody tr th {\n",
       "        vertical-align: top;\n",
       "    }\n",
       "\n",
       "    .dataframe thead th {\n",
       "        text-align: right;\n",
       "    }\n",
       "</style>\n",
       "<table border=\"1\" class=\"dataframe\">\n",
       "  <thead>\n",
       "    <tr style=\"text-align: right;\">\n",
       "      <th></th>\n",
       "      <th>movie</th>\n",
       "      <th>year</th>\n",
       "      <th>metascore</th>\n",
       "      <th>imdb</th>\n",
       "      <th>tmeter</th>\n",
       "      <th>audience</th>\n",
       "      <th>fandango</th>\n",
       "      <th>n_metascore</th>\n",
       "      <th>n_imdb</th>\n",
       "      <th>n_tmeter</th>\n",
       "      <th>n_audience</th>\n",
       "      <th>nr_metascore</th>\n",
       "      <th>nr_imdb</th>\n",
       "      <th>nr_tmeter</th>\n",
       "      <th>nr_audience</th>\n",
       "    </tr>\n",
       "  </thead>\n",
       "  <tbody>\n",
       "    <tr>\n",
       "      <th>0</th>\n",
       "      <td>10 Cloverfield Lane</td>\n",
       "      <td>2016</td>\n",
       "      <td>76</td>\n",
       "      <td>7.2</td>\n",
       "      <td>90</td>\n",
       "      <td>79</td>\n",
       "      <td>3.5</td>\n",
       "      <td>3.8</td>\n",
       "      <td>3.60</td>\n",
       "      <td>4.5</td>\n",
       "      <td>3.95</td>\n",
       "      <td>4.0</td>\n",
       "      <td>3.5</td>\n",
       "      <td>4.5</td>\n",
       "      <td>4.0</td>\n",
       "    </tr>\n",
       "    <tr>\n",
       "      <th>1</th>\n",
       "      <td>13 Hours</td>\n",
       "      <td>2016</td>\n",
       "      <td>48</td>\n",
       "      <td>7.3</td>\n",
       "      <td>50</td>\n",
       "      <td>83</td>\n",
       "      <td>4.5</td>\n",
       "      <td>2.4</td>\n",
       "      <td>3.65</td>\n",
       "      <td>2.5</td>\n",
       "      <td>4.15</td>\n",
       "      <td>2.5</td>\n",
       "      <td>3.5</td>\n",
       "      <td>2.5</td>\n",
       "      <td>4.0</td>\n",
       "    </tr>\n",
       "  </tbody>\n",
       "</table>\n",
       "</div>"
      ],
      "text/plain": [
       "                 movie  year  metascore  imdb  tmeter  audience  fandango  \\\n",
       "0  10 Cloverfield Lane  2016         76   7.2      90        79       3.5   \n",
       "1             13 Hours  2016         48   7.3      50        83       4.5   \n",
       "\n",
       "   n_metascore  n_imdb  n_tmeter  n_audience  nr_metascore  nr_imdb  \\\n",
       "0          3.8    3.60       4.5        3.95           4.0      3.5   \n",
       "1          2.4    3.65       2.5        4.15           2.5      3.5   \n",
       "\n",
       "   nr_tmeter  nr_audience  \n",
       "0        4.5          4.0  \n",
       "1        2.5          4.0  "
      ]
     },
     "execution_count": 175,
     "metadata": {},
     "output_type": "execute_result"
    }
   ],
   "source": [
    "movie_ratings_16_17.head(2)"
   ]
  },
  {
   "cell_type": "code",
   "execution_count": 176,
   "metadata": {},
   "outputs": [
    {
     "name": "stdout",
     "output_type": "stream",
     "text": [
      "<class 'pandas.core.frame.DataFrame'>\n",
      "RangeIndex: 214 entries, 0 to 213\n",
      "Data columns (total 15 columns):\n",
      "movie           214 non-null object\n",
      "year            214 non-null int64\n",
      "metascore       214 non-null int64\n",
      "imdb            214 non-null float64\n",
      "tmeter          214 non-null int64\n",
      "audience        214 non-null int64\n",
      "fandango        214 non-null float64\n",
      "n_metascore     214 non-null float64\n",
      "n_imdb          214 non-null float64\n",
      "n_tmeter        214 non-null float64\n",
      "n_audience      214 non-null float64\n",
      "nr_metascore    214 non-null float64\n",
      "nr_imdb         214 non-null float64\n",
      "nr_tmeter       214 non-null float64\n",
      "nr_audience     214 non-null float64\n",
      "dtypes: float64(10), int64(4), object(1)\n",
      "memory usage: 25.2+ KB\n"
     ]
    }
   ],
   "source": [
    "movie_ratings_16_17.info()"
   ]
  },
  {
   "cell_type": "markdown",
   "metadata": {},
   "source": [
    "Let's isolate Fandango relevant columns from the datasets."
   ]
  },
  {
   "cell_type": "code",
   "execution_count": 186,
   "metadata": {},
   "outputs": [],
   "source": [
    "fandango_before = score_comparison[['FILM', \n",
    "                                'Fandango_Stars', \n",
    "                                'Fandango_Ratingvalue', \n",
    "                                'Fandango_votes', \n",
    "                                'Fandango_Difference']].copy()"
   ]
  },
  {
   "cell_type": "code",
   "execution_count": 178,
   "metadata": {
    "collapsed": true
   },
   "outputs": [],
   "source": [
    "ratings_16_17 = movie_ratings_16_17[['movie', \n",
    "                                     'year', \n",
    "                                     'fandango']].copy()"
   ]
  },
  {
   "cell_type": "markdown",
   "metadata": {},
   "source": [
    "We will compare films with more than 30 ratings (considered popular films) and that were released in 2015 and 2016.\n",
    "\n"
   ]
  },
  {
   "cell_type": "code",
   "execution_count": 187,
   "metadata": {},
   "outputs": [
    {
     "name": "stdout",
     "output_type": "stream",
     "text": [
      "<class 'pandas.core.frame.DataFrame'>\n",
      "RangeIndex: 146 entries, 0 to 145\n",
      "Data columns (total 5 columns):\n",
      "FILM                    146 non-null object\n",
      "Fandango_Stars          146 non-null float64\n",
      "Fandango_Ratingvalue    146 non-null float64\n",
      "Fandango_votes          146 non-null int64\n",
      "Fandango_Difference     146 non-null float64\n",
      "dtypes: float64(3), int64(1), object(1)\n",
      "memory usage: 5.8+ KB\n"
     ]
    }
   ],
   "source": [
    "fandango_before.info()"
   ]
  },
  {
   "cell_type": "code",
   "execution_count": 188,
   "metadata": {},
   "outputs": [
    {
     "name": "stdout",
     "output_type": "stream",
     "text": [
      "<class 'pandas.core.frame.DataFrame'>\n",
      "Int64Index: 146 entries, 0 to 145\n",
      "Data columns (total 5 columns):\n",
      "FILM                    146 non-null object\n",
      "Fandango_Stars          146 non-null float64\n",
      "Fandango_Ratingvalue    146 non-null float64\n",
      "Fandango_votes          146 non-null int64\n",
      "Fandango_Difference     146 non-null float64\n",
      "dtypes: float64(3), int64(1), object(1)\n",
      "memory usage: 6.8+ KB\n"
     ]
    }
   ],
   "source": [
    "fandango_before[fandango_before['Fandango_votes']>30].info()"
   ]
  },
  {
   "cell_type": "markdown",
   "metadata": {},
   "source": [
    "This means that all films in `fandango_15` dataframe have greater than 30 ratings and thus are all popular.\n",
    "\n",
    "Now let's select those films that were released in 2015. Looking at the dataframe head, we notice that the year of the film is within the `FILM` column (the name of the film) in between brackets `()`. So we need to select by usign regular expression."
   ]
  },
  {
   "cell_type": "code",
   "execution_count": 181,
   "metadata": {
    "collapsed": true
   },
   "outputs": [],
   "source": [
    "import re"
   ]
  },
  {
   "cell_type": "code",
   "execution_count": 189,
   "metadata": {},
   "outputs": [
    {
     "name": "stderr",
     "output_type": "stream",
     "text": [
      "/dataquest/system/env/python3/lib/python3.4/site-packages/ipykernel/__main__.py:4: FutureWarning: currently extract(expand=None) means expand=False (return Index/Series/DataFrame) but in a future version of pandas this will be changed to expand=True (return DataFrame)\n"
     ]
    }
   ],
   "source": [
    "#join columns together\n",
    "s = fandango_before['FILM'] \n",
    "\n",
    "fandango_before['Year']  = s.str.extract(r\"\\((.*?)\\)\")"
   ]
  },
  {
   "cell_type": "code",
   "execution_count": 190,
   "metadata": {},
   "outputs": [
    {
     "data": {
      "text/plain": [
       "2015    129\n",
       "2014     17\n",
       "Name: Year, dtype: int64"
      ]
     },
     "execution_count": 190,
     "metadata": {},
     "output_type": "execute_result"
    }
   ],
   "source": [
    "fandango_before['Year'].value_counts()"
   ]
  },
  {
   "cell_type": "markdown",
   "metadata": {},
   "source": [
    "This means that there are 17 films from 2014 that we don't want to include.\n",
    "I will keep only those from 2015."
   ]
  },
  {
   "cell_type": "code",
   "execution_count": 191,
   "metadata": {},
   "outputs": [],
   "source": [
    "fandango_15 = fandango_before[fandango_before['Year']=='2015'].copy()"
   ]
  },
  {
   "cell_type": "code",
   "execution_count": 192,
   "metadata": {},
   "outputs": [
    {
     "name": "stdout",
     "output_type": "stream",
     "text": [
      "<class 'pandas.core.frame.DataFrame'>\n",
      "Int64Index: 129 entries, 0 to 145\n",
      "Data columns (total 6 columns):\n",
      "FILM                    129 non-null object\n",
      "Fandango_Stars          129 non-null float64\n",
      "Fandango_Ratingvalue    129 non-null float64\n",
      "Fandango_votes          129 non-null int64\n",
      "Fandango_Difference     129 non-null float64\n",
      "Year                    129 non-null object\n",
      "dtypes: float64(3), int64(1), object(2)\n",
      "memory usage: 7.1+ KB\n"
     ]
    }
   ],
   "source": [
    "fandango_15.info()"
   ]
  },
  {
   "cell_type": "markdown",
   "metadata": {},
   "source": [
    "So, `fandango_films_15` is the data that has popular films released in 2015. Nice one.\n",
    "\n",
    "\n",
    "Now let's look at the 2016 popular films from the other dataframe, `ratings_16_17`. I can't check whether the films included there have actually more than 30 reviews, but I will assume so since the [readme.md](https://github.com/mircealex/Movie_ratings_2016_17) file says that \"movie_ratings_16_17.csv contains movie ratings data for 214 of the most popular movies (with a significant number of votes) released in 2016 and 2017.\""
   ]
  },
  {
   "cell_type": "code",
   "execution_count": 193,
   "metadata": {},
   "outputs": [],
   "source": [
    "ratings_16 = ratings_16_17[ratings_16_17['year'] == 2016].copy()"
   ]
  },
  {
   "cell_type": "code",
   "execution_count": 194,
   "metadata": {},
   "outputs": [
    {
     "data": {
      "text/plain": [
       "2016    191\n",
       "Name: year, dtype: int64"
      ]
     },
     "execution_count": 194,
     "metadata": {},
     "output_type": "execute_result"
    }
   ],
   "source": [
    "ratings_16.year.value_counts()"
   ]
  },
  {
   "cell_type": "code",
   "execution_count": 195,
   "metadata": {},
   "outputs": [
    {
     "name": "stdout",
     "output_type": "stream",
     "text": [
      "<class 'pandas.core.frame.DataFrame'>\n",
      "Int64Index: 191 entries, 0 to 213\n",
      "Data columns (total 3 columns):\n",
      "movie       191 non-null object\n",
      "year        191 non-null int64\n",
      "fandango    191 non-null float64\n",
      "dtypes: float64(1), int64(1), object(1)\n",
      "memory usage: 6.0+ KB\n"
     ]
    }
   ],
   "source": [
    "ratings_16.info()"
   ]
  },
  {
   "cell_type": "code",
   "execution_count": 196,
   "metadata": {},
   "outputs": [
    {
     "data": {
      "text/html": [
       "<div>\n",
       "<style scoped>\n",
       "    .dataframe tbody tr th:only-of-type {\n",
       "        vertical-align: middle;\n",
       "    }\n",
       "\n",
       "    .dataframe tbody tr th {\n",
       "        vertical-align: top;\n",
       "    }\n",
       "\n",
       "    .dataframe thead th {\n",
       "        text-align: right;\n",
       "    }\n",
       "</style>\n",
       "<table border=\"1\" class=\"dataframe\">\n",
       "  <thead>\n",
       "    <tr style=\"text-align: right;\">\n",
       "      <th></th>\n",
       "      <th>movie</th>\n",
       "      <th>year</th>\n",
       "      <th>fandango</th>\n",
       "    </tr>\n",
       "  </thead>\n",
       "  <tbody>\n",
       "    <tr>\n",
       "      <th>0</th>\n",
       "      <td>10 Cloverfield Lane</td>\n",
       "      <td>2016</td>\n",
       "      <td>3.5</td>\n",
       "    </tr>\n",
       "    <tr>\n",
       "      <th>1</th>\n",
       "      <td>13 Hours</td>\n",
       "      <td>2016</td>\n",
       "      <td>4.5</td>\n",
       "    </tr>\n",
       "    <tr>\n",
       "      <th>2</th>\n",
       "      <td>A Cure for Wellness</td>\n",
       "      <td>2016</td>\n",
       "      <td>3.0</td>\n",
       "    </tr>\n",
       "    <tr>\n",
       "      <th>4</th>\n",
       "      <td>A Hologram for the King</td>\n",
       "      <td>2016</td>\n",
       "      <td>3.0</td>\n",
       "    </tr>\n",
       "    <tr>\n",
       "      <th>5</th>\n",
       "      <td>A Monster Calls</td>\n",
       "      <td>2016</td>\n",
       "      <td>4.0</td>\n",
       "    </tr>\n",
       "  </tbody>\n",
       "</table>\n",
       "</div>"
      ],
      "text/plain": [
       "                     movie  year  fandango\n",
       "0      10 Cloverfield Lane  2016       3.5\n",
       "1                 13 Hours  2016       4.5\n",
       "2      A Cure for Wellness  2016       3.0\n",
       "4  A Hologram for the King  2016       3.0\n",
       "5          A Monster Calls  2016       4.0"
      ]
     },
     "execution_count": 196,
     "metadata": {},
     "output_type": "execute_result"
    }
   ],
   "source": [
    "ratings_16.head()"
   ]
  },
  {
   "cell_type": "markdown",
   "metadata": {},
   "source": [
    "Nice, so now we have both dataframes `ratings_16` and `fandango_films_15` ready for being analysed.\n",
    "\n",
    "\n",
    "## Analysis \n",
    "\n",
    "There are different type of variables in statistics:\n",
    "\n",
    "* Qualitative, and quantitative;\n",
    "\n",
    "which can be measured by different system of measurements, made up of four different scales of measurement: _*nominal*,  *ordinal*,  *interval*, and  *ratio*._. The characteristics of each scale pivot around three main questions: Can we tell whether two individuals are different? Can we tell the direction of the difference? Can we tell the size of the difference?\n",
    "\n",
    "\n",
    "\n",
    "### Nominal variables \n",
    "\n",
    "*nominal* variables are good for qualitative variables.\n",
    "\n",
    "\n",
    "Looking at the questions above: \n",
    "\n",
    "- We can tell whether two individuals are different or not (with respect to that variable).\n",
    "\n",
    "- We can't say anything about the direction and the size of the difference.\n",
    "\n",
    "- We know that it can only describe qualities.\n",
    "\n",
    "\n",
    "For instance, consider the variable that is the `number on a player’s jersey`. Say that player A wears the number 5, and player B has 8. We can tell they're different with respect to jersey numbers, but it doesn't make any sense to subtract the two values and quantify the difference as a 3. Nor it makes sense to say that B is greater than A. The numbers are just identifiers here, they don't quantify anything. They are nominal.\n",
    "\n",
    "\n",
    "### Ordinal variables \n",
    "\n",
    "*Ordinal* variables are not useful for qualitative variables.\n",
    "\n",
    "Now, *ordinal* variables are able to distinguish measurements, but also a _direction_: any variable measured on an ordinal scale, we can tell whether individuals are different or not, we can also tell the direction of the difference. Yet, we still can't determine the size of the difference.\n",
    "\n",
    "\n",
    "For example, if we have a variable called `height_label` with values `short`, `medium`, `tall`. We can both distinguish two measurements by their `height_label` and, in addition, we can tell that one is taller or shorter than the other. Yet, there is not quantitative measure of the difference.\n",
    "\n",
    "\n",
    "### Interval and ratio variables \n",
    "\n",
    "*Intervals* and *ratio* are not useful for qualitative variables.\n",
    "\n",
    "A variable measured on a scale that preserves the order between values, and have well-defined intervals using real numbers, is an example of a variable measured either on an interval scale, or on a ratio scale.\n",
    "\n",
    "\n",
    "\n",
    "In practice, variables measured on interval or ratio scales are very common. Examples include:\n",
    "\n",
    "- Height measured with a numerical unit of measurement (like inches or centimeters).\n",
    "\n",
    "- Weight measured with a numerical unit of measurement (multiples and submultiples of grams, for instance).\n",
    "\n",
    "- Price of various products measured with a numerical unit of measurement (like dollars, pounds, etc.).\n",
    "\n",
    "There is a subtle difference between `ratio` and `interval` and it lies in the nature of the value  zero. In a `ratio`, zero means that there is no quantity for that variable: for instance, in a `weight`  measurement, 0 kg means that there is no mass. However, in `interval` measurements, 0 means something else. For instance, if we create a variable `weight_deviation`, having a measurement of 0 means that the value of the `weight` is exactly the mean.\n",
    "\n",
    "Another distinction between ratio and interval is how you measure differences: in `ratio` scale, you can quantify the difference in two ways. One way is to measure a distance between any two points by simply subtracting one from another. The other way is to measure the difference in terms of ratios. Such as in `weight`, you can say that A weights 5 kg more than B, or that A’s weight is 1.2 times the weight of B.\n",
    "\n",
    "In an `interval` scale, however, we can measure meaningfully the difference between any two points only by finding the distance between them (by subtracting one point from another). Say that the `weight_deviation` variable (which is an interval), shows that A’s weight_deviation is 1 kg and B’s weight_deviation is 2 kg. However, if we took ratios, we'd have to say that B is two times heavier than A, which is not true.\n",
    "\n",
    "Most variables will be _ratio_, while _interval_ variables are unusual. Two examples of interval variables are: Temperature in Celsius or Fahrenheit, and time. In temperature, the 0 degrees in C does not mean lack or absence of temperature, it is a temperature. Thus the 0 is arbitrarily set as the temperature where water passes from liquid to solid state at 1 atmosphere of pressure.\n",
    "\n",
    "Similarly, the 0 time in the calendar is arbitrarily set as the time when jess christ was born. Thus 0 does not mean zero time. At the same time, temperature can be measured in ratio scale too, with Kelvin scale, which starts from absolute 0! Is that so with time? Let's leave the questions about whether there was a beginning of time for another discussion.\n",
    "\n",
    "\n",
    "Now, let's discuss how to show data visually.\n",
    "\n",
    "\n",
    "### Graphs \n",
    "\n",
    "We look at three types of graphs:\n",
    "\n",
    "* Bar plots.\n",
    "\n",
    "* Pie charts.\n",
    "\n",
    "* Histograms.\n",
    "\n",
    "### bar plot\n",
    "\n",
    "this is typically useful for visualising variables measured on a _nominal_ or an _ordinal_ scale. To generate a bar plot for the distribution of a variable we need two sets of values:\n",
    "\n",
    "* One set containing the unique values (the labels).\n",
    "\n",
    "* Another set containing the frequency for each unique value (the counts).\n",
    "\n",
    "the code would be `pandas_dataframe['Column'].value_counts().plot.bar()`\n",
    "\n",
    "### pie chart \n",
    "\n",
    "this is also used for _nominal_ and _ordinal_ variables.\n",
    "\n",
    "The code would be `pandas_dataframe['Column'].value_counts().plot.pie()` \n",
    "\n",
    "I personally don’t like pie charts a lot since I think it it harder to appreciate the difference in the proportion each category takes. Colours also make a difference for pie charts.\n",
    "\n",
    "### histograms\n",
    "\n",
    "Histograms are used to show distribution of _interval_ and _ratio_ type variables. A histogram is like a form of a grouped frequency table. It can also be understood as a modified version of a bar plot. The main difference is that in the case of a histogram there are no gaps between bars and each bar represents an interval. While in the bar plot (used for /nominal/ or /ordinal/ variables), each bar represents a single value. \n",
    "The histogram has the x-axis divides in bins. Bins must have equal interval lengths, and, at the same time, cover together the entire range of the values of the variable the distribution of which we are trying to study.\n",
    "\n",
    "It can be tricky to decide the number of bins in a histogram. 10 is generally a good measure to visualise as it offers a good balance between information and comprehensibility. But in histograms one can have a larger amount of bins. However, if the number of bins is too high, the histogram may be difficult to understand due to an excessive granularity. This will show a histogram with many discontinuities (bins with zero frequency), and abrupt changes of behaviour. \n",
    "\n",
    "\n",
    "Histograms can be skewed. In a skewed histogram,\n",
    "\n",
    "* the values pile up toward the end or the starting point of the range, making up the _body_ of the distribution.\n",
    "\n",
    "* then the values decrease in frequency toward the opposite end, forming the _tail_ of the distribution\n",
    "\n",
    "Left (negatively) skewed histograms have a tail by the left and the body by the right hand side. While right (positively) skewed histograms, have the body on the left and the tail by the right hand side.\n",
    "\n",
    "Symmetrical distributions are not skewed :D. In a Gaussian histogram, values accumulate in the middle and gradually decay by the sides. In a uniformly distributed histogram, all bins have the same height.\n",
    "\n",
    "Sometimes when comparing two distributions it becomes useful to smooth over the histograms to view a superposed lines instead of superposed bins. This can be achieved with *kernel density estimate plot* or, shorter, *kernel density plot*. Unlike histograms, kernel density plots display densities on the y-axis instead of frequencies. The density values are actually probability values. \n",
    "\n",
    "The code is `Series.plot.kde()`  [function](https://pandas.pydata.org/pandas-docs/stable/generated/pandas.Series.plot.kde.html).\n",
    "\n",
    "\n",
    "Grouped bar plots are ideal for variables measured on _nominal_ and _ordinal_ scales. For variables measured on a _ratio_ or _interval_ scale, we learned that kernel density plots are a good solution when we have many distributions to compare. \n",
    "\n",
    "However, kernel density plots (KDE) will become unreadable if several distributions are compared. There are other techniques to make comparisons, such as strip plots. \n",
    "\n",
    "`sns.stripplot()`  [function](https://seaborn.pydata.org/generated/seaborn.stripplot.html?highlight=stripplot#seaborn.stripplot).\n",
    "\n",
    "\n",
    "-------------------------------\n",
    "\n",
    "\n",
    "Coming back to our datasets, let's create a kernel density plot.\n",
    "\n",
    "\n",
    "This is useful because the rating of the popular films in 2015 and 2016 are a ratio kind of variable. That is, we can tell whether two individuals are different (different ratings); we can tell the direction of the difference (a higher rating means a better rated film); and we can tell the size of the difference (by looking at the numerical value of the rating and the difference). (I'm not so sure this is not an interval variable! but this won't make a difference now).\n",
    "\n",
    "\n",
    "\n",
    "I will use the column `Fandango_Stars` from the dataframe `fandango_15` and the column `fandango` from the dataframe `fandango_16`.\n",
    "\n",
    "\n"
   ]
  },
  {
   "cell_type": "code",
   "execution_count": 199,
   "metadata": {
    "collapsed": true
   },
   "outputs": [],
   "source": [
    "import matplotlib.pyplot as plt\n",
    "import numpy as np\n",
    "%matplotlib inline"
   ]
  },
  {
   "cell_type": "code",
   "execution_count": 214,
   "metadata": {},
   "outputs": [
    {
     "data": {
      "text/plain": [
       "<matplotlib.legend.Legend at 0x7f95f33ec080>"
      ]
     },
     "execution_count": 214,
     "metadata": {},
     "output_type": "execute_result"
    },
    {
     "data": {
      "image/png": "[encoded data removed]",
      "text/plain": [
       "<matplotlib.figure.Figure at 0x7f95f2bd7710>"
      ]
     },
     "metadata": {},
     "output_type": "display_data"
    }
   ],
   "source": [
    "fig, ax = plt.subplots(figsize = (10,7))\n",
    "#ax.set_facecolor((1, 1, 1))\n",
    "ax.grid(color='grey', linestyle='-', linewidth=0.5)\n",
    "fandango_15['Fandango_Stars'].plot.kde(label = 'Fandango15', linewidth = 1.5)\n",
    "ratings_16['fandango'].plot.kde(label = 'Fandango16', linewidth = 1.5)\n",
    "#plt.setp(ax, xticks=np.arange(0, 5, step=0.5))\n",
    "plt.title('Probability density functions')\n",
    "plt.legend()\n"
   ]
  },
  {
   "cell_type": "code",
   "execution_count": 213,
   "metadata": {},
   "outputs": [
    {
     "data": {
      "image/png": "[encoded data removed]",
      "text/plain": [
       "<matplotlib.figure.Figure at 0x7f95f2af9d30>"
      ]
     },
     "metadata": {},
     "output_type": "display_data"
    }
   ],
   "source": [
    "fig, ax = plt.subplots(figsize = (10,7))\n",
    "\n",
    "ax.grid(color='grey',\n",
    "        linestyle='-', \n",
    "        linewidth=0.5)\n",
    "\n",
    "plt.hist(fandango_15['Fandango_Stars'], \n",
    "         histtype = 'step', \n",
    "         label = 'Fandango15',\n",
    "         linewidth = 1.5)\n",
    "\n",
    "plt.hist(ratings_16['fandango'], \n",
    "         histtype = 'step',  \n",
    "         label = 'Fandango16', \n",
    "         linewidth = 1.5)\n",
    "\n",
    "plt.legend()\n",
    "\n",
    "plt.show()"
   ]
  },
  {
   "cell_type": "markdown",
   "metadata": {},
   "source": [
    "Just as we mentioned above, the KDE (kernel density plot) estimates de probability distributions based on the sample data. The shape in both sets of data is the same as in the respective histograms. \n",
    "\n",
    "The KDE are normalised, while histograms use frequency. That is why the y-axis in the histograms is different for both sets of data. `Fandango15` has 129 values, while `Fandango16` has 191 (see the `dataframes.info()` above).\n",
    "\n",
    "Looking at the kernel density plots, the ratings for 2015 has values piling up toward the right, whereas the values decrease in frequency toward the opposite end, forming the tail. This is a left (negatively) skewed distribution as it has a tail by the left and the body by the right hand side.  The histogram is similar although more noticeable in the KDE plot.\n",
    "\n",
    "The ratings for 2016 also has tail by the left, but the body at least looks more symmetric.\n",
    "\n",
    "It would seem as though films tended to get higher ranking in 2015 than in 2016.\n",
    "\n",
    "### Relative frequencies\n",
    "\n",
    "As we saw with the histogram, having different amount of values for each year requires some data management. We can calculate the relative frequencies for the two distributions to have a better view on the facts\n",
    "\n",
    "For 2015 we have:"
   ]
  },
  {
   "cell_type": "code",
   "execution_count": 208,
   "metadata": {},
   "outputs": [
    {
     "data": {
      "text/plain": [
       "3.0     8.527132\n",
       "3.5    17.829457\n",
       "4.0    28.682171\n",
       "4.5    37.984496\n",
       "5.0     6.976744\n",
       "Name: Fandango_Stars, dtype: float64"
      ]
     },
     "execution_count": 208,
     "metadata": {},
     "output_type": "execute_result"
    }
   ],
   "source": [
    "fandango_15['Fandango_Stars'].value_counts(normalize = True).sort_index() * 100"
   ]
  },
  {
   "cell_type": "markdown",
   "metadata": {},
   "source": [
    "While for 2016:"
   ]
  },
  {
   "cell_type": "code",
   "execution_count": 210,
   "metadata": {},
   "outputs": [
    {
     "data": {
      "text/plain": [
       "2.5     3.141361\n",
       "3.0     7.329843\n",
       "3.5    24.083770\n",
       "4.0    40.314136\n",
       "4.5    24.607330\n",
       "5.0     0.523560\n",
       "Name: fandango, dtype: float64"
      ]
     },
     "execution_count": 210,
     "metadata": {},
     "output_type": "execute_result"
    }
   ],
   "source": [
    "ratings_16['fandango'].value_counts(normalize = True).sort_index() * 100"
   ]
  },
  {
   "cell_type": "markdown",
   "metadata": {},
   "source": [
    "Let's briefly discuss the relative frequencies tables:\n",
    "\n",
    "In 2016 there was a very little fraction of 5 stars rated films (below 1 %), while the proportion for 5-star rated films in 2015 was higher (a little bit short of 7 %).\n",
    "\n",
    "The lowes rate in 2015 is 3 stars, while the minimum in 2016 decreased to 2.5 stars. \n",
    "\n",
    "Overall we see a more balanced distribution in 2016.\n",
    "\n",
    "\n",
    "\n",
    "\n",
    "## Summary statistics \n",
    "\n",
    "Let's now calculate summary statistics:"
   ]
  },
  {
   "cell_type": "code",
   "execution_count": 204,
   "metadata": {},
   "outputs": [
    {
     "name": "stdout",
     "output_type": "stream",
     "text": [
      "mean15 = 4.0852713178294575\n",
      "median15 = 4.0\n",
      "mode15 = 4.5\n"
     ]
    }
   ],
   "source": [
    "mean15 = fandango_15['Fandango_Stars'].mean()\n",
    "median15 = fandango_15['Fandango_Stars'].median()\n",
    "mode15 = fandango_15['Fandango_Stars'].mode()[0]\n",
    "print('mean15 =', mean15)\n",
    "print('median15 =', median15)\n",
    "print('mode15 =', mode15)\n",
    "stats15 = [mean15, median15, mode15]"
   ]
  },
  {
   "cell_type": "code",
   "execution_count": 205,
   "metadata": {},
   "outputs": [
    {
     "name": "stdout",
     "output_type": "stream",
     "text": [
      "mean16 = 3.887434554973822\n",
      "median16 = 4.0\n",
      "mode16 = 4.0\n"
     ]
    }
   ],
   "source": [
    "mean16 = ratings_16['fandango'].mean()\n",
    "median16 = ratings_16['fandango'].median()\n",
    "mode16 = ratings_16['fandango'].mode()[0]\n",
    "print('mean16 =', mean16)\n",
    "print('median16 =', median16)\n",
    "print('mode16 =', mode16)\n",
    "\n",
    "\n",
    "stats16 = [mean16, median16, mode16]"
   ]
  },
  {
   "cell_type": "code",
   "execution_count": 207,
   "metadata": {},
   "outputs": [
    {
     "data": {
      "text/plain": [
       "(0, 5.5)"
      ]
     },
     "execution_count": 207,
     "metadata": {},
     "output_type": "execute_result"
    },
    {
     "data": {
      "image/png": "[encoded data removed]",
      "text/plain": [
       "<matplotlib.figure.Figure at 0x7f95f2b77898>"
      ]
     },
     "metadata": {},
     "output_type": "display_data"
    }
   ],
   "source": [
    "t2016 = [ratings_16['fandango'].mean(), ratings_16['fandango'].median(), \n",
    "         ratings_16['fandango'].mode()[0]]\n",
    "t2015 = [fandango_15['Fandango_Stars'].mean(), \n",
    "         fandango_15['Fandango_Stars'].median(), \n",
    "        fandango_15['Fandango_Stars'].mode()[0]]\n",
    "index = ['mean', 'median', 'mode']\n",
    "\n",
    "df = pd.DataFrame({'2015': t2015,\n",
    "                   '2016': t2016}, \n",
    "                  index=index)\n",
    "\n",
    "fix, ax = plt.subplots(figsize = (7,5))\n",
    "df.plot.bar(rot=0, ax= ax)\n",
    "plt.title(\"Comparing stats for 2015 and 2016\")\n",
    "ax.legend(loc = 'best')\n",
    "ax.set_ylim(0,5.5)\n"
   ]
  },
  {
   "cell_type": "code",
   "execution_count": 212,
   "metadata": {},
   "outputs": [
    {
     "data": {
      "text/plain": [
       "4.842683568951992"
      ]
     },
     "execution_count": 212,
     "metadata": {},
     "output_type": "execute_result"
    }
   ],
   "source": [
    "100 * (mean15 - mean16)/mean15"
   ]
  },
  {
   "cell_type": "markdown",
   "metadata": {},
   "source": [
    "## Conclusion\n",
    "\n",
    "The average rating in 2016 is slightly lower than in 2015 (about 5%), while the median is almost the same and the mode also dropped a little bit. All of this indicates that there may have been a correction in the way that the ratings are computed by Fandango. This could have been a consequence from the investigation made by Walt Hickey, although certainly our data cannot demonstrate that. In order to find that out one would need to learn more information from Fandango.\n",
    "\n",
    "\n",
    "Further discussion can be found in dataquest's own version of this project in the [repo](https://github.com/dataquestio/solutions/blob/master/Mission288Solutions.ipynb), or in [this]((https://medium.freecodecamp.org/whose-reviews-should-you-trust-imdb-rotten-tomatoes-metacritic-or-fandango-7d1010c6cf19) article by Alex Olteanu.\n"
   ]
  },
  {
   "cell_type": "code",
   "execution_count": null,
   "metadata": {
    "collapsed": true
   },
   "outputs": [],
   "source": []
  }
 ],
 "metadata": {
  "kernelspec": {
   "display_name": "Python 3",
   "language": "python",
   "name": "python3"
  },
  "language_info": {
   "codemirror_mode": {
    "name": "ipython",
    "version": 3
   },
   "file_extension": ".py",
   "mimetype": "text/x-python",
   "name": "python",
   "nbconvert_exporter": "python",
   "pygments_lexer": "ipython3",
   "version": "3.6.6"
  }
 },
 "nbformat": 4,
 "nbformat_minor": 2
}
